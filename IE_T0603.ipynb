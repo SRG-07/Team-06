{
  "nbformat": 4,
  "nbformat_minor": 0,
  "metadata": {
    "colab": {
      "provenance": []
    },
    "kernelspec": {
      "name": "python3",
      "display_name": "Python 3"
    },
    "language_info": {
      "name": "python"
    }
  },
  "cells": [
    {
      "cell_type": "code",
      "execution_count": null,
      "metadata": {
        "colab": {
          "base_uri": "https://localhost:8080/"
        },
        "id": "CvGfWTTFIOH5",
        "outputId": "a07df3ee-8303-4954-c23c-014e1e31e2c5"
      },
      "outputs": [
        {
          "output_type": "stream",
          "name": "stdout",
          "text": [
            "<bound method NDFrame.head of                                    symptom_text severity\n",
            "0                mild headache and slight fever     mild\n",
            "1                        cough and mild fatigue     mild\n",
            "2                     high fever and chest pain   severe\n",
            "3            difficulty breathing and dizziness   severe\n",
            "4                       runny nose and sneezing     mild\n",
            "5               persistent cough and high fever   severe\n",
            "6                              mild sore throat     mild\n",
            "7            vomiting and severe abdominal pain   severe\n",
            "8                         fatigue and body ache     mild\n",
            "9            chest pain and shortness of breath   severe\n",
            "10                 slight cough and sore throat     mild\n",
            "11                   nausea and light dizziness     mild\n",
            "12         severe headache and high temperature   severe\n",
            "13     loss of consciousness and heavy sweating   severe\n",
            "14          sneezing and mild throat irritation     mild\n",
            "15          continuous vomiting and dehydration   severe\n",
            "16                    low energy and mild fever     mild\n",
            "17         sharp chest pain and rapid heartbeat   severe\n",
            "18                    itchy eyes and runny nose     mild\n",
            "19  severe breathing difficulty and bluish lips   severe>\n"
          ]
        }
      ],
      "source": [
        "import pandas as pd\n",
        "import string\n",
        "from sklearn.feature_extraction.text import TfidfVectorizer\n",
        "\n",
        "dataset = {\n",
        "    \"symptom_text\": [\n",
        "        \"mild headache and slight fever\",\n",
        "        \"cough and mild fatigue\",\n",
        "        \"high fever and chest pain\",\n",
        "        \"difficulty breathing and dizziness\",\n",
        "        \"runny nose and sneezing\",\n",
        "        \"persistent cough and high fever\",\n",
        "        \"mild sore throat\",\n",
        "        \"vomiting and severe abdominal pain\",\n",
        "        \"fatigue and body ache\",\n",
        "        \"chest pain and shortness of breath\",\n",
        "        \"slight cough and sore throat\",\n",
        "        \"nausea and light dizziness\",\n",
        "        \"severe headache and high temperature\",\n",
        "        \"loss of consciousness and heavy sweating\",\n",
        "        \"sneezing and mild throat irritation\",\n",
        "        \"continuous vomiting and dehydration\",\n",
        "        \"low energy and mild fever\",\n",
        "        \"sharp chest pain and rapid heartbeat\",\n",
        "        \"itchy eyes and runny nose\",\n",
        "        \"severe breathing difficulty and bluish lips\"\n",
        "    ],\n",
        "    \"severity\": [\n",
        "        \"mild\",\n",
        "        \"mild\",\n",
        "        \"severe\",\n",
        "        \"severe\",\n",
        "        \"mild\",\n",
        "        \"severe\",\n",
        "        \"mild\",\n",
        "        \"severe\",\n",
        "        \"mild\",\n",
        "        \"severe\",\n",
        "        \"mild\",\n",
        "        \"mild\",\n",
        "        \"severe\",\n",
        "        \"severe\",\n",
        "        \"mild\",\n",
        "        \"severe\",\n",
        "        \"mild\",\n",
        "        \"severe\",\n",
        "        \"mild\",\n",
        "        \"severe\"\n",
        "    ]\n",
        "}\n",
        "\n",
        "\n",
        "df=pd.DataFrame(dataset)\n",
        "#print(df)\n",
        "#print(\"New line\")\n",
        "print(df.head)\n",
        "#print(df.tail)\n",
        "\n",
        "df.to_csv(\"symptoms_dataset.csv\", index=False)"
      ]
    },
    {
      "cell_type": "code",
      "source": [
        "def preprocess_text(text):\n",
        "  text=text.lower()\n",
        "  text = text.translate(str.maketrans('', '', string.punctuation))\n",
        "  return text\n",
        "\n",
        "df['clean_text']=df['symptom_text'].apply(preprocess_text)\n",
        "\n",
        "print(df[['symptom_text', 'clean_text', 'severity']])"
      ],
      "metadata": {
        "colab": {
          "base_uri": "https://localhost:8080/"
        },
        "collapsed": true,
        "id": "0_zo3LC7I9Al",
        "outputId": "dad3d8c4-9e11-444a-8fa7-34489b2a2eda"
      },
      "execution_count": null,
      "outputs": [
        {
          "output_type": "stream",
          "name": "stdout",
          "text": [
            "                                   symptom_text  \\\n",
            "0                mild headache and slight fever   \n",
            "1                        cough and mild fatigue   \n",
            "2                     high fever and chest pain   \n",
            "3            difficulty breathing and dizziness   \n",
            "4                       runny nose and sneezing   \n",
            "5               persistent cough and high fever   \n",
            "6                              mild sore throat   \n",
            "7            vomiting and severe abdominal pain   \n",
            "8                         fatigue and body ache   \n",
            "9            chest pain and shortness of breath   \n",
            "10                 slight cough and sore throat   \n",
            "11                   nausea and light dizziness   \n",
            "12         severe headache and high temperature   \n",
            "13     loss of consciousness and heavy sweating   \n",
            "14          sneezing and mild throat irritation   \n",
            "15          continuous vomiting and dehydration   \n",
            "16                    low energy and mild fever   \n",
            "17         sharp chest pain and rapid heartbeat   \n",
            "18                    itchy eyes and runny nose   \n",
            "19  severe breathing difficulty and bluish lips   \n",
            "\n",
            "                                     clean_text severity  \n",
            "0                mild headache and slight fever     mild  \n",
            "1                        cough and mild fatigue     mild  \n",
            "2                     high fever and chest pain   severe  \n",
            "3            difficulty breathing and dizziness   severe  \n",
            "4                       runny nose and sneezing     mild  \n",
            "5               persistent cough and high fever   severe  \n",
            "6                              mild sore throat     mild  \n",
            "7            vomiting and severe abdominal pain   severe  \n",
            "8                         fatigue and body ache     mild  \n",
            "9            chest pain and shortness of breath   severe  \n",
            "10                 slight cough and sore throat     mild  \n",
            "11                   nausea and light dizziness     mild  \n",
            "12         severe headache and high temperature   severe  \n",
            "13     loss of consciousness and heavy sweating   severe  \n",
            "14          sneezing and mild throat irritation     mild  \n",
            "15          continuous vomiting and dehydration   severe  \n",
            "16                    low energy and mild fever     mild  \n",
            "17         sharp chest pain and rapid heartbeat   severe  \n",
            "18                    itchy eyes and runny nose     mild  \n",
            "19  severe breathing difficulty and bluish lips   severe  \n"
          ]
        }
      ]
    },
    {
      "cell_type": "code",
      "source": [
        "vectorize=TfidfVectorizer()\n",
        "X=vectorize.fit_transform(df['clean_text'])\n",
        "\n",
        "print(X.shape)\n",
        "print(\"New line\")\n",
        "print(vectorize.get_feature_names_out()) #list will be sorted\n",
        "print(X)"
      ],
      "metadata": {
        "colab": {
          "base_uri": "https://localhost:8080/"
        },
        "id": "8dU1S9GYKmob",
        "outputId": "c6fa2f5b-2fad-4d9d-cd56-db410fc44aa2"
      },
      "execution_count": null,
      "outputs": [
        {
          "output_type": "stream",
          "name": "stdout",
          "text": [
            "(20, 46)\n",
            "New line\n",
            "['abdominal' 'ache' 'and' 'bluish' 'body' 'breath' 'breathing' 'chest'\n",
            " 'consciousness' 'continuous' 'cough' 'dehydration' 'difficulty'\n",
            " 'dizziness' 'energy' 'eyes' 'fatigue' 'fever' 'headache' 'heartbeat'\n",
            " 'heavy' 'high' 'irritation' 'itchy' 'light' 'lips' 'loss' 'low' 'mild'\n",
            " 'nausea' 'nose' 'of' 'pain' 'persistent' 'rapid' 'runny' 'severe' 'sharp'\n",
            " 'shortness' 'slight' 'sneezing' 'sore' 'sweating' 'temperature' 'throat'\n",
            " 'vomiting']\n",
            "<Compressed Sparse Row sparse matrix of dtype 'float64'\n",
            "\twith 96 stored elements and shape (20, 46)>\n",
            "  Coords\tValues\n",
            "  (0, 28)\t0.4150395268552875\n",
            "  (0, 18)\t0.5427420334589101\n",
            "  (0, 2)\t0.19322466659601228\n",
            "  (0, 39)\t0.5427420334589101\n",
            "  (0, 17)\t0.4486296798032576\n",
            "  (1, 28)\t0.4811721962349707\n",
            "  (1, 2)\t0.22401321121684567\n",
            "  (1, 10)\t0.5677763082935787\n",
            "  (1, 16)\t0.6292229036766278\n",
            "  (2, 2)\t0.20149829779675335\n",
            "  (2, 17)\t0.4678394245102271\n",
            "  (2, 21)\t0.5107107702667382\n",
            "  (2, 7)\t0.5107107702667382\n",
            "  (2, 32)\t0.4678394245102271\n",
            "  (3, 2)\t0.20133659868120443\n",
            "  (3, 12)\t0.565527356848303\n",
            "  (3, 6)\t0.565527356848303\n",
            "  (3, 13)\t0.565527356848303\n",
            "  (4, 2)\t0.20133659868120443\n",
            "  (4, 35)\t0.565527356848303\n",
            "  (4, 30)\t0.565527356848303\n",
            "  (4, 40)\t0.565527356848303\n",
            "  (5, 2)\t0.18427166156292352\n",
            "  (5, 17)\t0.4278425626508222\n",
            "  (5, 10)\t0.46704872072943493\n",
            "  :\t:\n",
            "  (15, 45)\t0.5188119775837814\n",
            "  (15, 9)\t0.5902195032499244\n",
            "  (15, 11)\t0.5902195032499244\n",
            "  (16, 28)\t0.38315858084623244\n",
            "  (16, 2)\t0.1783822605966603\n",
            "  (16, 17)\t0.41416853170915263\n",
            "  (16, 27)\t0.5700147797953186\n",
            "  (16, 14)\t0.5700147797953186\n",
            "  (17, 2)\t0.15171059086881894\n",
            "  (17, 7)\t0.38452053226965227\n",
            "  (17, 32)\t0.35224215936437736\n",
            "  (17, 37)\t0.4847863165174314\n",
            "  (17, 34)\t0.4847863165174314\n",
            "  (17, 19)\t0.4847863165174314\n",
            "  (18, 2)\t0.1639532050902487\n",
            "  (18, 35)\t0.46052244514326274\n",
            "  (18, 30)\t0.46052244514326274\n",
            "  (18, 23)\t0.5239071967339138\n",
            "  (18, 15)\t0.5239071967339138\n",
            "  (19, 2)\t0.15140136123798198\n",
            "  (19, 12)\t0.42526600829153766\n",
            "  (19, 6)\t0.42526600829153766\n",
            "  (19, 36)\t0.3837367693064865\n",
            "  (19, 3)\t0.4837981831720072\n",
            "  (19, 25)\t0.4837981831720072\n"
          ]
        }
      ]
    },
    {
      "cell_type": "code",
      "source": [
        "from sklearn.model_selection import train_test_split\n",
        "from sklearn.linear_model import LogisticRegression\n",
        "from sklearn.metrics import accuracy_score,classification_report\n",
        "\n",
        "y=df['severity']\n",
        "\n",
        "X_train,X_test,y_train,y_test=train_test_split(X,y,test_size=0.2,random_state=42,stratify=y)\n",
        "model=LogisticRegression()\n",
        "model.fit(X_train,y_train)\n",
        "y_pred=model.predict(X_test)\n",
        "\n",
        "print(\"Accuracy:\",accuracy_score(y_test,y_pred))\n",
        "print(\"\\nClassification Report:\\n\",classification_report(y_test,y_pred))"
      ],
      "metadata": {
        "colab": {
          "base_uri": "https://localhost:8080/"
        },
        "id": "BLdWoSiALeb4",
        "outputId": "4d5c50ee-c570-45ca-919c-c4d341ecb9f0"
      },
      "execution_count": null,
      "outputs": [
        {
          "output_type": "stream",
          "name": "stdout",
          "text": [
            "Accuracy: 0.5\n",
            "\n",
            "Classification Report:\n",
            "               precision    recall  f1-score   support\n",
            "\n",
            "        mild       0.50      0.50      0.50         2\n",
            "      severe       0.50      0.50      0.50         2\n",
            "\n",
            "    accuracy                           0.50         4\n",
            "   macro avg       0.50      0.50      0.50         4\n",
            "weighted avg       0.50      0.50      0.50         4\n",
            "\n"
          ]
        }
      ]
    },
    {
      "cell_type": "code",
      "source": [
        "import numpy as np\n",
        "\n",
        "def predict_severity(symptom_text):\n",
        "  clean_text=preprocess_text(symptom_text)\n",
        "  text_vector=vectorize.transform([clean_text])\n",
        "  prediction=model.predict(text_vector)[0]\n",
        "  confidence=np.max(model.predict_proba(text_vector))\n",
        "\n",
        "  print(f\"Input Symtoms:{symptom_text}\")\n",
        "  print(f\"Predicted Severity: {prediction.capitalize()} (Confidence:{confidence:.2f})\")\n",
        "\n",
        "predict_severity(\"high fever and chest pain\")\n",
        "predict_severity(\"mild sore throat and fatique\")\n",
        "predict_severity(\"mild sore throat\")\n"
      ],
      "metadata": {
        "colab": {
          "base_uri": "https://localhost:8080/"
        },
        "id": "UsqkFBHcOkvM",
        "outputId": "b6486ada-2e36-483c-9115-70183408739f"
      },
      "execution_count": 17,
      "outputs": [
        {
          "output_type": "stream",
          "name": "stdout",
          "text": [
            "Input Symtoms:high fever and chest pain\n",
            "Predicted Severity: Severe (Confidence:0.65)\n",
            "Input Symtoms:mild sore throat and fatique\n",
            "Predicted Severity: Mild (Confidence:0.64)\n",
            "Input Symtoms:mild sore throat\n",
            "Predicted Severity: Mild (Confidence:0.64)\n"
          ]
        }
      ]
    }
  ]
}